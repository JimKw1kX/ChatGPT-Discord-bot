{
 "cells": [
  {
   "cell_type": "code",
   "execution_count": 1,
   "id": "53ea12c0",
   "metadata": {},
   "outputs": [
    {
     "name": "stdout",
     "output_type": "stream",
     "text": [
      "Defaulting to user installation because normal site-packages is not writeable\n",
      "Requirement already satisfied: nest_asyncio in /home/batman/.local/lib/python3.10/site-packages (1.5.6)\n"
     ]
    }
   ],
   "source": [
    "!pip3 install nest_asyncio\n"
   ]
  },
  {
   "cell_type": "code",
   "execution_count": null,
   "id": "30633f69",
   "metadata": {},
   "outputs": [
    {
     "name": "stderr",
     "output_type": "stream",
     "text": [
      "[2023-03-15 00:10:07] [WARNING ] discord.ext.commands.bot: Privileged message content intent is missing, commands may not work as expected.\n",
      "[2023-03-15 00:10:07] [INFO    ] discord.client: logging in using static token\n",
      "[2023-03-15 00:10:10] [INFO    ] discord.gateway: Shard ID None has connected to Gateway (Session ID: 0986d8067528cd18b542a02650f6206e).\n"
     ]
    }
   ],
   "source": [
    "import nest_asyncio\n",
    "import os\n",
    "import discord\n",
    "from discord.ext import commands\n",
    "import openai\n",
    "import asyncio\n",
    "\n",
    "nest_asyncio.apply()\n",
    "\n",
    "async def my_coroutine():\n",
    "\n",
    "    os.environ['OPENAI_API_KEY'] = 'API-KEY'\n",
    "\n",
    "\n",
    "    # Set up the Discord bot\n",
    "    intents = discord.Intents.default()\n",
    "    intents.members = True\n",
    "    bot = commands.Bot(command_prefix='!', intents=intents)\n",
    "\n",
    "    # Set up the OpenAI API\n",
    "    openai.api_key = os.environ['OPENAI_API_KEY']\n",
    "\n",
    "    # Define a command for the bot to generate text using GPT-3\n",
    "    @bot.command()\n",
    "    async def talk(ctx, *, prompt):\n",
    "        # Generate text from the prompt using the OpenAI API\n",
    "        response = openai.Completion.create(\n",
    "            model =  'text-davinci-003',    \n",
    "            prompt= prompt,\n",
    "            max_tokens=  4000,\n",
    "            temperature=  1.0,\n",
    "        )\n",
    "        # Send the generated text back to the user\n",
    "        await ctx.send(response.choices[0].text)\n",
    "\n",
    "    # Start the bot\n",
    "    bot.run('BOT-TOKEN')\n",
    "    \n",
    "loop = asyncio.get_event_loop()\n",
    "loop.run_until_complete(my_coroutine())"
   ]
  },
  {
   "cell_type": "code",
   "execution_count": null,
   "id": "8e3b1ff6",
   "metadata": {},
   "outputs": [],
   "source": []
  },
  {
   "cell_type": "code",
   "execution_count": null,
   "id": "e56ea066",
   "metadata": {},
   "outputs": [],
   "source": []
  }
 ],
 "metadata": {
  "kernelspec": {
   "display_name": "Python 3 (ipykernel)",
   "language": "python",
   "name": "python3"
  },
  "language_info": {
   "codemirror_mode": {
    "name": "ipython",
    "version": 3
   },
   "file_extension": ".py",
   "mimetype": "text/x-python",
   "name": "python",
   "nbconvert_exporter": "python",
   "pygments_lexer": "ipython3",
   "version": "3.10.6"
  }
 },
 "nbformat": 4,
 "nbformat_minor": 5
}
